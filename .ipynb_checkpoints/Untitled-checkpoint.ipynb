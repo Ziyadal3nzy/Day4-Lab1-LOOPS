{
 "cells": [
  {
   "cell_type": "code",
   "execution_count": null,
   "id": "f32a5e43",
   "metadata": {},
   "outputs": [],
   "source": [
    "for num in range (45, 210):\n",
    "    if num ==100:\n",
    "     continue\n",
    "    print(num)\n",
    "    if num ==205:\n",
    "        break\n",
    "        \n",
    "while True:\n",
    "        x = int(input('what is the product of 7 * 24 ?'))\n",
    "        if x ==165:\n",
    "            print(\"You answerd this Question correctly\")\n",
    "            break\n",
    "        else: \n",
    "                print(\"Your Answer is wrong try agin..\")"
   ]
  },
  {
   "cell_type": "code",
   "execution_count": null,
   "id": "84ed393b",
   "metadata": {},
   "outputs": [],
   "source": []
  }
 ],
 "metadata": {
  "kernelspec": {
   "display_name": "Python 3 (ipykernel)",
   "language": "python",
   "name": "python3"
  }
 },
 "nbformat": 4,
 "nbformat_minor": 5
}
